{
 "cells": [
  {
   "cell_type": "markdown",
   "metadata": {},
   "source": [
    "# Defining the problem and key steps"
   ]
  },
  {
   "cell_type": "markdown",
   "metadata": {},
   "source": [
    "\n",
    " 1. We take some image file (.png, .jpeg. etc.) as an input \n",
    " 2. We convert it to a black and white image \n",
    " 3. We construct a Hilbert Curve based on the size of the image, and make that Hilbert curve into some frequency space that humans can hear\n",
    " 4. For every pixel, we get the x and y coordinate and assign it to a corresponding point on the Hilbert curve. We take the intensity of the pixel and scale the amplitude of the frequency according to that\n",
    " 5. We somehow use that information to generate a stationary sound wave file for some pre-defined time (eg. 2 seconds), and save that as a sound file (.wav or .mp4)\n",
    " "
   ]
  },
  {
   "cell_type": "markdown",
   "metadata": {},
   "source": [
    "## Part 1: take image as input"
   ]
  },
  {
   "cell_type": "code",
   "execution_count": null,
   "metadata": {},
   "outputs": [],
   "source": []
  }
 ],
 "metadata": {
  "kernelspec": {
   "display_name": "Python 3",
   "language": "python",
   "name": "python3"
  },
  "language_info": {
   "codemirror_mode": {
    "name": "ipython",
    "version": 3
   },
   "file_extension": ".py",
   "mimetype": "text/x-python",
   "name": "python",
   "nbconvert_exporter": "python",
   "pygments_lexer": "ipython3",
   "version": "3.7.3"
  }
 },
 "nbformat": 4,
 "nbformat_minor": 4
}
